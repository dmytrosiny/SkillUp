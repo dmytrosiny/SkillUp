{
 "cells": [
  {
   "cell_type": "markdown",
   "id": "e479c0a4-f67d-4d92-a657-b7e45b410fc3",
   "metadata": {},
   "source": [
    "# Data Science Tools and Ecosystem"
   ]
  },
  {
   "cell_type": "markdown",
   "id": "deb1794c-d912-4008-bf31-3c4dfe63ad1d",
   "metadata": {},
   "source": [
    "In this notebook, Data Science Tools and Ecosystem are summarized."
   ]
  },
  {
   "cell_type": "markdown",
   "id": "5168bf6a-f7a6-463d-ae12-c589e59a613b",
   "metadata": {},
   "source": [
    "Some of the popular languages that Data Scientists use are:\n",
    "1. Python.\n",
    "2. R.\n",
    "3. SQL.\n"
   ]
  },
  {
   "cell_type": "markdown",
   "id": "b49eb0c6-e508-4404-bbd5-9c966f125ee7",
   "metadata": {},
   "source": [
    "Some of the commonly used libraries used by Data Scientists include:\n",
    "1. Pandas.\n",
    "2. NumPy.\n",
    "3. Matplotlib."
   ]
  },
  {
   "cell_type": "markdown",
   "id": "e0c242cb-6e90-4b5a-a541-190c82c52ef1",
   "metadata": {},
   "source": [
    "Data Science Tools\n",
    "\n",
    "| Number | Tools | Other |\n",
    "---|---| --- |\n",
    "1 | RStudio | iq |\n",
    "2 | Jupyter | iq |\n",
    "3 | VS Code | iq |"
   ]
  },
  {
   "cell_type": "markdown",
   "id": "29eb64ab-6b2d-4e0d-8e82-9ee86ae2dfcd",
   "metadata": {},
   "source": [
    "### Below are a few examples of evaluating arithmetic expressions in Python"
   ]
  },
  {
   "cell_type": "markdown",
   "id": "00240c3f-af4f-4bc1-96bd-2e2682bb5fb8",
   "metadata": {},
   "source": [
    "# This is a simple arithmetic expression to multiply then add integers\n"
   ]
  },
  {
   "cell_type": "code",
   "execution_count": 2,
   "id": "2ef8ce96-3d97-4cc3-bc09-2be17f8d4fd0",
   "metadata": {},
   "outputs": [
    {
     "data": {
      "text/plain": [
       "17"
      ]
     },
     "execution_count": 2,
     "metadata": {},
     "output_type": "execute_result"
    }
   ],
   "source": [
    "(3 * 4) + 5"
   ]
  },
  {
   "cell_type": "markdown",
   "id": "2f7e0d4a-6d4c-4e01-8090-3f955175f11c",
   "metadata": {},
   "source": [
    "# This will convert 200 minutes to hours by dividing by 60"
   ]
  },
  {
   "cell_type": "code",
   "execution_count": 3,
   "id": "c28aaeb5-d96c-43cd-84c0-bb8bdc310f9a",
   "metadata": {},
   "outputs": [
    {
     "data": {
      "text/plain": [
       "3.3333333333333335"
      ]
     },
     "execution_count": 3,
     "metadata": {},
     "output_type": "execute_result"
    }
   ],
   "source": [
    "200 / 60"
   ]
  },
  {
   "cell_type": "markdown",
   "id": "8f648413-ff7b-442e-a5c5-5e655cadb430",
   "metadata": {},
   "source": [
    "**Objectives:**\n",
    "\n",
    "- List popular languages for Data Science\n",
    "- Demonstrate simple arithmetic operations in Python\n",
    "- Convert time from minutes to hours using Python expressions\n",
    "- Understand basic markdown formatting in Jupyter notebooks\n",
    "- Execute Python code cells to evaluate expressions"
   ]
  },
  {
   "cell_type": "markdown",
   "id": "b2d5357f-f90e-43f6-9101-3ec9c7c17bbc",
   "metadata": {},
   "source": [
    "## Author\n",
    "\n",
    "Dmytro Holovko"
   ]
  },
  {
   "cell_type": "code",
   "execution_count": null,
   "id": "bed297fa-55de-40d0-8ad8-74a041ba3600",
   "metadata": {},
   "outputs": [],
   "source": []
  }
 ],
 "metadata": {
  "kernelspec": {
   "display_name": "Python 3 (ipykernel)",
   "language": "python",
   "name": "python3"
  },
  "language_info": {
   "codemirror_mode": {
    "name": "ipython",
    "version": 3
   },
   "file_extension": ".py",
   "mimetype": "text/x-python",
   "name": "python",
   "nbconvert_exporter": "python",
   "pygments_lexer": "ipython3",
   "version": "3.12.4"
  }
 },
 "nbformat": 4,
 "nbformat_minor": 5
}
